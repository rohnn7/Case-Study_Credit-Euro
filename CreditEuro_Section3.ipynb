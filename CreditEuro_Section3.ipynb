{
 "cells": [
  {
   "cell_type": "code",
   "execution_count": 280,
   "id": "b7e81188",
   "metadata": {},
   "outputs": [],
   "source": [
    "import pandas as pd \n",
    "import matplotlib.pyplot as plt\n",
    "import seaborn as sns\n",
    "import numpy as np\n",
    "\n",
    "df_transaction = pd.read_excel(\"C:/Users/Rohan Verma/Desktop/CaseStudy/Credit_Euro/Section3.xlsx\", sheet_name='Transaction Data')\n",
    "df_customer_payment = pd.read_excel(\"C:/Users/Rohan Verma/Desktop/CaseStudy/Credit_Euro/Section3.xlsx\", sheet_name='Customer Payments')\n",
    "df_customer_detail = pd.read_excel(\"C:/Users/Rohan Verma/Desktop/CaseStudy/Credit_Euro/Section3.xlsx\", sheet_name='Customer Details')\n",
    "df_customer_segment = pd.read_excel(\"C:/Users/Rohan Verma/Desktop/CaseStudy/Credit_Euro/Section3.xlsx\", sheet_name='Customer Segment')\n",
    "df_credit_card_details = pd.read_excel(\"C:/Users/Rohan Verma/Desktop/CaseStudy/Credit_Euro/Section3.xlsx\", sheet_name='Credit Card Details')\n"
   ]
  },
  {
   "cell_type": "code",
   "execution_count": 278,
   "id": "c1436a19",
   "metadata": {},
   "outputs": [
    {
     "data": {
      "text/html": [
       "<div>\n",
       "<style scoped>\n",
       "    .dataframe tbody tr th:only-of-type {\n",
       "        vertical-align: middle;\n",
       "    }\n",
       "\n",
       "    .dataframe tbody tr th {\n",
       "        vertical-align: top;\n",
       "    }\n",
       "\n",
       "    .dataframe thead th {\n",
       "        text-align: right;\n",
       "    }\n",
       "</style>\n",
       "<table border=\"1\" class=\"dataframe\">\n",
       "  <thead>\n",
       "    <tr style=\"text-align: right;\">\n",
       "      <th></th>\n",
       "      <th>Customer ID</th>\n",
       "      <th>Age</th>\n",
       "      <th>Date</th>\n",
       "      <th>Category</th>\n",
       "      <th>Transaction Amount</th>\n",
       "      <th>Segment A</th>\n",
       "      <th>Segment B</th>\n",
       "      <th>Segment C</th>\n",
       "    </tr>\n",
       "  </thead>\n",
       "  <tbody>\n",
       "    <tr>\n",
       "      <th>0</th>\n",
       "      <td>11001.0</td>\n",
       "      <td>15.0</td>\n",
       "      <td>2018-01-01</td>\n",
       "      <td>Travel</td>\n",
       "      <td>5375.0</td>\n",
       "      <td>0.0</td>\n",
       "      <td>0.0</td>\n",
       "      <td>1.0</td>\n",
       "    </tr>\n",
       "    <tr>\n",
       "      <th>1</th>\n",
       "      <td>11001.0</td>\n",
       "      <td>15.0</td>\n",
       "      <td>2018-02-01</td>\n",
       "      <td>Travel</td>\n",
       "      <td>15375.0</td>\n",
       "      <td>0.0</td>\n",
       "      <td>0.0</td>\n",
       "      <td>1.0</td>\n",
       "    </tr>\n",
       "    <tr>\n",
       "      <th>2</th>\n",
       "      <td>11001.0</td>\n",
       "      <td>15.0</td>\n",
       "      <td>2018-02-01</td>\n",
       "      <td>Online Shopping</td>\n",
       "      <td>10000.0</td>\n",
       "      <td>0.0</td>\n",
       "      <td>0.0</td>\n",
       "      <td>1.0</td>\n",
       "    </tr>\n",
       "    <tr>\n",
       "      <th>3</th>\n",
       "      <td>11002.0</td>\n",
       "      <td>34.0</td>\n",
       "      <td>2018-01-01</td>\n",
       "      <td>Dining</td>\n",
       "      <td>447.0</td>\n",
       "      <td>0.0</td>\n",
       "      <td>1.0</td>\n",
       "      <td>0.0</td>\n",
       "    </tr>\n",
       "    <tr>\n",
       "      <th>4</th>\n",
       "      <td>11002.0</td>\n",
       "      <td>34.0</td>\n",
       "      <td>2018-02-01</td>\n",
       "      <td>Dining</td>\n",
       "      <td>447.0</td>\n",
       "      <td>0.0</td>\n",
       "      <td>1.0</td>\n",
       "      <td>0.0</td>\n",
       "    </tr>\n",
       "    <tr>\n",
       "      <th>...</th>\n",
       "      <td>...</td>\n",
       "      <td>...</td>\n",
       "      <td>...</td>\n",
       "      <td>...</td>\n",
       "      <td>...</td>\n",
       "      <td>...</td>\n",
       "      <td>...</td>\n",
       "      <td>...</td>\n",
       "    </tr>\n",
       "    <tr>\n",
       "      <th>321</th>\n",
       "      <td>11096.0</td>\n",
       "      <td>37.0</td>\n",
       "      <td>NaT</td>\n",
       "      <td>NaN</td>\n",
       "      <td>NaN</td>\n",
       "      <td>NaN</td>\n",
       "      <td>NaN</td>\n",
       "      <td>NaN</td>\n",
       "    </tr>\n",
       "    <tr>\n",
       "      <th>322</th>\n",
       "      <td>11097.0</td>\n",
       "      <td>41.0</td>\n",
       "      <td>NaT</td>\n",
       "      <td>NaN</td>\n",
       "      <td>NaN</td>\n",
       "      <td>NaN</td>\n",
       "      <td>NaN</td>\n",
       "      <td>NaN</td>\n",
       "    </tr>\n",
       "    <tr>\n",
       "      <th>323</th>\n",
       "      <td>11098.0</td>\n",
       "      <td>22.0</td>\n",
       "      <td>NaT</td>\n",
       "      <td>NaN</td>\n",
       "      <td>NaN</td>\n",
       "      <td>NaN</td>\n",
       "      <td>NaN</td>\n",
       "      <td>NaN</td>\n",
       "    </tr>\n",
       "    <tr>\n",
       "      <th>324</th>\n",
       "      <td>11099.0</td>\n",
       "      <td>50.0</td>\n",
       "      <td>NaT</td>\n",
       "      <td>NaN</td>\n",
       "      <td>NaN</td>\n",
       "      <td>NaN</td>\n",
       "      <td>NaN</td>\n",
       "      <td>NaN</td>\n",
       "    </tr>\n",
       "    <tr>\n",
       "      <th>325</th>\n",
       "      <td>11100.0</td>\n",
       "      <td>16.0</td>\n",
       "      <td>NaT</td>\n",
       "      <td>NaN</td>\n",
       "      <td>NaN</td>\n",
       "      <td>NaN</td>\n",
       "      <td>NaN</td>\n",
       "      <td>NaN</td>\n",
       "    </tr>\n",
       "  </tbody>\n",
       "</table>\n",
       "<p>326 rows × 8 columns</p>\n",
       "</div>"
      ],
      "text/plain": [
       "     Customer ID   Age       Date         Category  Transaction Amount  \\\n",
       "0        11001.0  15.0 2018-01-01           Travel              5375.0   \n",
       "1        11001.0  15.0 2018-02-01           Travel             15375.0   \n",
       "2        11001.0  15.0 2018-02-01  Online Shopping             10000.0   \n",
       "3        11002.0  34.0 2018-01-01           Dining               447.0   \n",
       "4        11002.0  34.0 2018-02-01           Dining               447.0   \n",
       "..           ...   ...        ...              ...                 ...   \n",
       "321      11096.0  37.0        NaT              NaN                 NaN   \n",
       "322      11097.0  41.0        NaT              NaN                 NaN   \n",
       "323      11098.0  22.0        NaT              NaN                 NaN   \n",
       "324      11099.0  50.0        NaT              NaN                 NaN   \n",
       "325      11100.0  16.0        NaT              NaN                 NaN   \n",
       "\n",
       "     Segment A  Segment B  Segment C  \n",
       "0          0.0        0.0        1.0  \n",
       "1          0.0        0.0        1.0  \n",
       "2          0.0        0.0        1.0  \n",
       "3          0.0        1.0        0.0  \n",
       "4          0.0        1.0        0.0  \n",
       "..         ...        ...        ...  \n",
       "321        NaN        NaN        NaN  \n",
       "322        NaN        NaN        NaN  \n",
       "323        NaN        NaN        NaN  \n",
       "324        NaN        NaN        NaN  \n",
       "325        NaN        NaN        NaN  \n",
       "\n",
       "[326 rows x 8 columns]"
      ]
     },
     "execution_count": 278,
     "metadata": {},
     "output_type": "execute_result"
    }
   ],
   "source": [
    "df_transaction.replace({'Category':'Travell'}, {'Category':'Travel'})"
   ]
  },
  {
   "cell_type": "markdown",
   "id": "723e94ba",
   "metadata": {},
   "source": [
    "# Transaction data; also using card data (down)"
   ]
  },
  {
   "cell_type": "code",
   "execution_count": 334,
   "id": "1574095f",
   "metadata": {
    "scrolled": false
   },
   "outputs": [
    {
     "name": "stderr",
     "output_type": "stream",
     "text": [
      "<ipython-input-334-4f98913bb370>:4: UserWarning: Boolean Series key will be reindexed to match DataFrame index.\n",
      "  categoty_transaction['Segment A Transactions'] = df_transaction.head(221)[(df_transaction['Age']>40)&(df_transaction['Date']<'2018-02-01')].groupby('Category').size()\n",
      "<ipython-input-334-4f98913bb370>:5: UserWarning: Boolean Series key will be reindexed to match DataFrame index.\n",
      "  categoty_transaction['Segment B Transactions'] =  df_transaction.head(221)[(df_transaction['Age'] < 40)&(df_transaction['Age'] > 19)&(df_transaction['Date']<'2018-02-01') ].groupby('Category').size()\n",
      "<ipython-input-334-4f98913bb370>:6: UserWarning: Boolean Series key will be reindexed to match DataFrame index.\n",
      "  categoty_transaction['Segment C Transactions'] = df_transaction.head(221)[(df_transaction['Age']<20)&(df_transaction['Date']<'2018-02-01')].groupby('Category').size()\n"
     ]
    },
    {
     "data": {
      "text/html": [
       "<div>\n",
       "<style scoped>\n",
       "    .dataframe tbody tr th:only-of-type {\n",
       "        vertical-align: middle;\n",
       "    }\n",
       "\n",
       "    .dataframe tbody tr th {\n",
       "        vertical-align: top;\n",
       "    }\n",
       "\n",
       "    .dataframe thead th {\n",
       "        text-align: right;\n",
       "    }\n",
       "</style>\n",
       "<table border=\"1\" class=\"dataframe\">\n",
       "  <thead>\n",
       "    <tr style=\"text-align: right;\">\n",
       "      <th></th>\n",
       "      <th>Number of Transactions</th>\n",
       "      <th>Total Payment</th>\n",
       "      <th>Segment A Transactions</th>\n",
       "      <th>Segment B Transactions</th>\n",
       "      <th>Segment C Transactions</th>\n",
       "      <th>Total Transactions</th>\n",
       "      <th>Card 1 Reward</th>\n",
       "      <th>Card 2 Reward</th>\n",
       "    </tr>\n",
       "    <tr>\n",
       "      <th>Category</th>\n",
       "      <th></th>\n",
       "      <th></th>\n",
       "      <th></th>\n",
       "      <th></th>\n",
       "      <th></th>\n",
       "      <th></th>\n",
       "      <th></th>\n",
       "      <th></th>\n",
       "    </tr>\n",
       "  </thead>\n",
       "  <tbody>\n",
       "    <tr>\n",
       "      <th>Online Shopping</th>\n",
       "      <td>20</td>\n",
       "      <td>130534.0</td>\n",
       "      <td>7</td>\n",
       "      <td>9</td>\n",
       "      <td>3</td>\n",
       "      <td>19</td>\n",
       "      <td>0.05</td>\n",
       "      <td>0.02</td>\n",
       "    </tr>\n",
       "    <tr>\n",
       "      <th>Travel</th>\n",
       "      <td>23</td>\n",
       "      <td>97971.0</td>\n",
       "      <td>11</td>\n",
       "      <td>9</td>\n",
       "      <td>2</td>\n",
       "      <td>22</td>\n",
       "      <td>0.02</td>\n",
       "      <td>0.08</td>\n",
       "    </tr>\n",
       "    <tr>\n",
       "      <th>Fuel</th>\n",
       "      <td>27</td>\n",
       "      <td>32265.0</td>\n",
       "      <td>8</td>\n",
       "      <td>12</td>\n",
       "      <td>5</td>\n",
       "      <td>25</td>\n",
       "      <td>0.01</td>\n",
       "      <td>0.02</td>\n",
       "    </tr>\n",
       "    <tr>\n",
       "      <th>Dining</th>\n",
       "      <td>31</td>\n",
       "      <td>29468.0</td>\n",
       "      <td>11</td>\n",
       "      <td>17</td>\n",
       "      <td>3</td>\n",
       "      <td>31</td>\n",
       "      <td>0.10</td>\n",
       "      <td>0.05</td>\n",
       "    </tr>\n",
       "  </tbody>\n",
       "</table>\n",
       "</div>"
      ],
      "text/plain": [
       "                 Number of Transactions  Total Payment  \\\n",
       "Category                                                 \n",
       "Online Shopping                      20       130534.0   \n",
       "Travel                               23        97971.0   \n",
       "Fuel                                 27        32265.0   \n",
       "Dining                               31        29468.0   \n",
       "\n",
       "                 Segment A Transactions  Segment B Transactions  \\\n",
       "Category                                                          \n",
       "Online Shopping                       7                       9   \n",
       "Travel                               11                       9   \n",
       "Fuel                                  8                      12   \n",
       "Dining                               11                      17   \n",
       "\n",
       "                 Segment C Transactions  Total Transactions  Card 1 Reward  \\\n",
       "Category                                                                     \n",
       "Online Shopping                       3                  19           0.05   \n",
       "Travel                                2                  22           0.02   \n",
       "Fuel                                  5                  25           0.01   \n",
       "Dining                                3                  31           0.10   \n",
       "\n",
       "                 Card 2 Reward  \n",
       "Category                        \n",
       "Online Shopping           0.02  \n",
       "Travel                    0.08  \n",
       "Fuel                      0.02  \n",
       "Dining                    0.05  "
      ]
     },
     "execution_count": 334,
     "metadata": {},
     "output_type": "execute_result"
    }
   ],
   "source": [
    "g_categories = df_transaction[df_transaction['Date']<'2018-02-01'].groupby('Category')\n",
    "categoty_transaction = pd.DataFrame(data=g_categories.size(), columns=['Number of Transactions'])\n",
    "categoty_transaction['Total Payment'] = g_categories['Transaction Amount'].agg(\"sum\") \n",
    "categoty_transaction['Segment A Transactions'] = df_transaction.head(221)[(df_transaction['Age']>40)&(df_transaction['Date']<'2018-02-01')].groupby('Category').size()\n",
    "categoty_transaction['Segment B Transactions'] =  df_transaction.head(221)[(df_transaction['Age'] < 40)&(df_transaction['Age'] > 19)&(df_transaction['Date']<'2018-02-01') ].groupby('Category').size()\n",
    "categoty_transaction['Segment C Transactions'] = df_transaction.head(221)[(df_transaction['Age']<20)&(df_transaction['Date']<'2018-02-01')].groupby('Category').size()\n",
    "categoty_transaction['Total Transactions'] = categoty_transaction['Segment A Transactions']+categoty_transaction['Segment B Transactions']+categoty_transaction['Segment C Transactions']\n",
    "categoty_transaction= categoty_transaction.fillna(0)\n",
    "card_transaction = pd.merge(categoty_transaction, card_detail, on='Category', how='outer')\n",
    "card_transaction= card_transaction.fillna(0)\n",
    "\n",
    "card_transaction= card_transaction.set_index(\"Category\").sort_values(by = 'Total Payment', ascending=False)\n",
    "card_transaction"
   ]
  },
  {
   "cell_type": "code",
   "execution_count": 335,
   "id": "5c531dd9",
   "metadata": {},
   "outputs": [
    {
     "data": {
      "text/html": [
       "<div>\n",
       "<style scoped>\n",
       "    .dataframe tbody tr th:only-of-type {\n",
       "        vertical-align: middle;\n",
       "    }\n",
       "\n",
       "    .dataframe tbody tr th {\n",
       "        vertical-align: top;\n",
       "    }\n",
       "\n",
       "    .dataframe thead th {\n",
       "        text-align: right;\n",
       "    }\n",
       "</style>\n",
       "<table border=\"1\" class=\"dataframe\">\n",
       "  <thead>\n",
       "    <tr style=\"text-align: right;\">\n",
       "      <th></th>\n",
       "      <th>Number of Transactions</th>\n",
       "      <th>Segment A Amount</th>\n",
       "      <th>Segment B Amount</th>\n",
       "      <th>Segment C Amount</th>\n",
       "      <th>Reward A card 1</th>\n",
       "      <th>Reward B card 1</th>\n",
       "      <th>Reward C card 1</th>\n",
       "      <th>Reward A card 2</th>\n",
       "      <th>Reward B card 2</th>\n",
       "      <th>Reward C card 2</th>\n",
       "    </tr>\n",
       "    <tr>\n",
       "      <th>Category</th>\n",
       "      <th></th>\n",
       "      <th></th>\n",
       "      <th></th>\n",
       "      <th></th>\n",
       "      <th></th>\n",
       "      <th></th>\n",
       "      <th></th>\n",
       "      <th></th>\n",
       "      <th></th>\n",
       "      <th></th>\n",
       "    </tr>\n",
       "  </thead>\n",
       "  <tbody>\n",
       "    <tr>\n",
       "      <th>Dining</th>\n",
       "      <td>31</td>\n",
       "      <td>10456</td>\n",
       "      <td>16159</td>\n",
       "      <td>2851</td>\n",
       "      <td>1045</td>\n",
       "      <td>1615</td>\n",
       "      <td>285</td>\n",
       "      <td>522</td>\n",
       "      <td>807</td>\n",
       "      <td>142</td>\n",
       "    </tr>\n",
       "    <tr>\n",
       "      <th>Fuel</th>\n",
       "      <td>27</td>\n",
       "      <td>9560</td>\n",
       "      <td>14340</td>\n",
       "      <td>5975</td>\n",
       "      <td>95</td>\n",
       "      <td>143</td>\n",
       "      <td>59</td>\n",
       "      <td>191</td>\n",
       "      <td>286</td>\n",
       "      <td>119</td>\n",
       "    </tr>\n",
       "    <tr>\n",
       "      <th>Online Shopping</th>\n",
       "      <td>20</td>\n",
       "      <td>45686</td>\n",
       "      <td>58740</td>\n",
       "      <td>19580</td>\n",
       "      <td>2284</td>\n",
       "      <td>2937</td>\n",
       "      <td>979</td>\n",
       "      <td>913</td>\n",
       "      <td>1174</td>\n",
       "      <td>391</td>\n",
       "    </tr>\n",
       "    <tr>\n",
       "      <th>Travel</th>\n",
       "      <td>23</td>\n",
       "      <td>46855</td>\n",
       "      <td>38336</td>\n",
       "      <td>8519</td>\n",
       "      <td>937</td>\n",
       "      <td>766</td>\n",
       "      <td>170</td>\n",
       "      <td>3748</td>\n",
       "      <td>3066</td>\n",
       "      <td>681</td>\n",
       "    </tr>\n",
       "  </tbody>\n",
       "</table>\n",
       "</div>"
      ],
      "text/plain": [
       "                 Number of Transactions  Segment A Amount  Segment B Amount  \\\n",
       "Category                                                                      \n",
       "Dining                               31             10456             16159   \n",
       "Fuel                                 27              9560             14340   \n",
       "Online Shopping                      20             45686             58740   \n",
       "Travel                               23             46855             38336   \n",
       "\n",
       "                 Segment C Amount  Reward A card 1  Reward B card 1  \\\n",
       "Category                                                              \n",
       "Dining                       2851             1045             1615   \n",
       "Fuel                         5975               95              143   \n",
       "Online Shopping             19580             2284             2937   \n",
       "Travel                       8519              937              766   \n",
       "\n",
       "                 Reward C card 1  Reward A card 2  Reward B card 2  \\\n",
       "Category                                                             \n",
       "Dining                       285              522              807   \n",
       "Fuel                          59              191              286   \n",
       "Online Shopping              979              913             1174   \n",
       "Travel                       170             3748             3066   \n",
       "\n",
       "                 Reward C card 2  \n",
       "Category                          \n",
       "Dining                       142  \n",
       "Fuel                         119  \n",
       "Online Shopping              391  \n",
       "Travel                       681  "
      ]
     },
     "execution_count": 335,
     "metadata": {},
     "output_type": "execute_result"
    }
   ],
   "source": [
    "segment_transaction = pd.DataFrame(data=g_categories.size(), columns=['Number of Transactions'])\n",
    "segment_transaction['Segment A Amount'] = categoty_transaction['Total Payment']*(categoty_transaction['Segment A Transactions']/categoty_transaction['Number of Transactions'])\n",
    "segment_transaction['Segment B Amount'] = categoty_transaction['Total Payment']*(categoty_transaction['Segment B Transactions']/categoty_transaction['Number of Transactions'])\n",
    "segment_transaction['Segment C Amount'] = categoty_transaction['Total Payment']*(categoty_transaction['Segment C Transactions']/categoty_transaction['Number of Transactions'])\n",
    "segment_transaction['Reward A card 1'] = card_transaction['Card 1 Reward']*segment_transaction['Segment A Amount']\n",
    "segment_transaction['Reward B card 1'] = card_transaction['Card 1 Reward']*segment_transaction['Segment B Amount']\n",
    "segment_transaction['Reward C card 1'] = card_transaction['Card 1 Reward']*segment_transaction['Segment C Amount']\n",
    "segment_transaction['Reward A card 2'] = card_transaction['Card 2 Reward']*segment_transaction['Segment A Amount']\n",
    "segment_transaction['Reward B card 2'] = card_transaction['Card 2 Reward']*segment_transaction['Segment B Amount']\n",
    "segment_transaction['Reward C card 2'] = card_transaction['Card 2 Reward']*segment_transaction['Segment C Amount']\n",
    "m=(segment_transaction.dtypes=='float')\n",
    "segment_transaction.loc[:,m]=segment_transaction.loc[:,m].astype(int)\n",
    "segment_transaction"
   ]
  },
  {
   "cell_type": "markdown",
   "id": "5babda06",
   "metadata": {},
   "source": [
    "# Merging the card details (reward) data"
   ]
  },
  {
   "cell_type": "code",
   "execution_count": 336,
   "id": "3b52d9c1",
   "metadata": {},
   "outputs": [
    {
     "name": "stderr",
     "output_type": "stream",
     "text": [
      "<ipython-input-336-726a8e218daa>:1: UserWarning: Boolean Series key will be reindexed to match DataFrame index.\n",
      "  g_credit_card1 =  df_credit_card_details.head(10)[df_credit_card_details['Product']=='Credit Card 1'].groupby(['Category'])\n",
      "<ipython-input-336-726a8e218daa>:2: UserWarning: Boolean Series key will be reindexed to match DataFrame index.\n",
      "  g_credit_card2 =  df_credit_card_details.head(10)[df_credit_card_details['Product']=='Credit Card 2'].groupby(['Category'])\n"
     ]
    }
   ],
   "source": [
    "g_credit_card1 =  df_credit_card_details.head(10)[df_credit_card_details['Product']=='Credit Card 1'].groupby(['Category'])\n",
    "g_credit_card2 =  df_credit_card_details.head(10)[df_credit_card_details['Product']=='Credit Card 2'].groupby(['Category'])\n",
    "card_detail1 = pd.DataFrame(data=g_credit_card1.head(4)['Category'], columns=['Category'])\n",
    "card_detail1['Card 1 Reward'] = g_credit_card1.head(4)['Reward %']\n"
   ]
  },
  {
   "cell_type": "code",
   "execution_count": 337,
   "id": "bee05410",
   "metadata": {},
   "outputs": [],
   "source": [
    "card_detail2 = pd.DataFrame(data=g_credit_card2.head(4)['Category'], columns=['Category'])\n",
    "card_detail2['Card 2 Reward'] = g_credit_card2.head(4)['Reward %']\n"
   ]
  },
  {
   "cell_type": "code",
   "execution_count": 338,
   "id": "ae22c616",
   "metadata": {
    "scrolled": true
   },
   "outputs": [
    {
     "data": {
      "text/html": [
       "<div>\n",
       "<style scoped>\n",
       "    .dataframe tbody tr th:only-of-type {\n",
       "        vertical-align: middle;\n",
       "    }\n",
       "\n",
       "    .dataframe tbody tr th {\n",
       "        vertical-align: top;\n",
       "    }\n",
       "\n",
       "    .dataframe thead th {\n",
       "        text-align: right;\n",
       "    }\n",
       "</style>\n",
       "<table border=\"1\" class=\"dataframe\">\n",
       "  <thead>\n",
       "    <tr style=\"text-align: right;\">\n",
       "      <th></th>\n",
       "      <th>Card 1 Reward</th>\n",
       "      <th>Card 2 Reward</th>\n",
       "    </tr>\n",
       "    <tr>\n",
       "      <th>Category</th>\n",
       "      <th></th>\n",
       "      <th></th>\n",
       "    </tr>\n",
       "  </thead>\n",
       "  <tbody>\n",
       "    <tr>\n",
       "      <th>Travel</th>\n",
       "      <td>0.02</td>\n",
       "      <td>0.08</td>\n",
       "    </tr>\n",
       "    <tr>\n",
       "      <th>Dining</th>\n",
       "      <td>0.1</td>\n",
       "      <td>0.05</td>\n",
       "    </tr>\n",
       "    <tr>\n",
       "      <th>Fuel</th>\n",
       "      <td>0.01</td>\n",
       "      <td>0.02</td>\n",
       "    </tr>\n",
       "    <tr>\n",
       "      <th>Online Shopping</th>\n",
       "      <td>0.05</td>\n",
       "      <td>0.02</td>\n",
       "    </tr>\n",
       "  </tbody>\n",
       "</table>\n",
       "</div>"
      ],
      "text/plain": [
       "                Card 1 Reward Card 2 Reward\n",
       "Category                                   \n",
       "Travel                   0.02          0.08\n",
       "Dining                    0.1          0.05\n",
       "Fuel                     0.01          0.02\n",
       "Online Shopping          0.05          0.02"
      ]
     },
     "execution_count": 338,
     "metadata": {},
     "output_type": "execute_result"
    }
   ],
   "source": [
    "#Used in Transactions data under card 1 % and card 2 %\n",
    "card_detail = pd.merge(card_detail1, card_detail2, on=\"Category\")\n",
    "card_detail_proxy = card_detail.set_index('Category')\n",
    "card_detail_proxy"
   ]
  },
  {
   "cell_type": "markdown",
   "id": "cf03d826",
   "metadata": {},
   "source": [
    "# Customer Payment"
   ]
  },
  {
   "cell_type": "code",
   "execution_count": 311,
   "id": "86fe6d47",
   "metadata": {},
   "outputs": [
    {
     "data": {
      "text/html": [
       "<div>\n",
       "<style scoped>\n",
       "    .dataframe tbody tr th:only-of-type {\n",
       "        vertical-align: middle;\n",
       "    }\n",
       "\n",
       "    .dataframe tbody tr th {\n",
       "        vertical-align: top;\n",
       "    }\n",
       "\n",
       "    .dataframe thead th {\n",
       "        text-align: right;\n",
       "    }\n",
       "</style>\n",
       "<table border=\"1\" class=\"dataframe\">\n",
       "  <thead>\n",
       "    <tr style=\"text-align: right;\">\n",
       "      <th></th>\n",
       "      <th>Customer ID</th>\n",
       "      <th>Date</th>\n",
       "      <th>Total Due</th>\n",
       "      <th>Total Payment</th>\n",
       "      <th>Age</th>\n",
       "      <th>Segment</th>\n",
       "      <th>Expenditure On January</th>\n",
       "    </tr>\n",
       "  </thead>\n",
       "  <tbody>\n",
       "    <tr>\n",
       "      <th>0</th>\n",
       "      <td>11001</td>\n",
       "      <td>2018-02-01</td>\n",
       "      <td>25375</td>\n",
       "      <td>3506</td>\n",
       "      <td>15</td>\n",
       "      <td>C</td>\n",
       "      <td>16399.0</td>\n",
       "    </tr>\n",
       "    <tr>\n",
       "      <th>1</th>\n",
       "      <td>11002</td>\n",
       "      <td>2018-02-01</td>\n",
       "      <td>500446</td>\n",
       "      <td>403</td>\n",
       "      <td>34</td>\n",
       "      <td>B</td>\n",
       "      <td>491366.0</td>\n",
       "    </tr>\n",
       "    <tr>\n",
       "      <th>2</th>\n",
       "      <td>11003</td>\n",
       "      <td>2018-02-01</td>\n",
       "      <td>362714</td>\n",
       "      <td>4283</td>\n",
       "      <td>25</td>\n",
       "      <td>B</td>\n",
       "      <td>354921.0</td>\n",
       "    </tr>\n",
       "    <tr>\n",
       "      <th>3</th>\n",
       "      <td>11004</td>\n",
       "      <td>2018-02-01</td>\n",
       "      <td>439859</td>\n",
       "      <td>4220</td>\n",
       "      <td>54</td>\n",
       "      <td>A</td>\n",
       "      <td>434467.0</td>\n",
       "    </tr>\n",
       "    <tr>\n",
       "      <th>4</th>\n",
       "      <td>11005</td>\n",
       "      <td>2018-02-01</td>\n",
       "      <td>631769</td>\n",
       "      <td>6199</td>\n",
       "      <td>40</td>\n",
       "      <td>A</td>\n",
       "      <td>622052.0</td>\n",
       "    </tr>\n",
       "  </tbody>\n",
       "</table>\n",
       "</div>"
      ],
      "text/plain": [
       "   Customer ID       Date  Total Due  Total Payment  Age Segment  \\\n",
       "0        11001 2018-02-01      25375           3506   15       C   \n",
       "1        11002 2018-02-01     500446            403   34       B   \n",
       "2        11003 2018-02-01     362714           4283   25       B   \n",
       "3        11004 2018-02-01     439859           4220   54       A   \n",
       "4        11005 2018-02-01     631769           6199   40       A   \n",
       "\n",
       "   Expenditure On January  \n",
       "0                 16399.0  \n",
       "1                491366.0  \n",
       "2                354921.0  \n",
       "3                434467.0  \n",
       "4                622052.0  "
      ]
     },
     "execution_count": 311,
     "metadata": {},
     "output_type": "execute_result"
    }
   ],
   "source": [
    "df_customer_payment.head(5)"
   ]
  },
  {
   "cell_type": "code",
   "execution_count": 375,
   "id": "26e08127",
   "metadata": {},
   "outputs": [
    {
     "data": {
      "text/html": [
       "<div>\n",
       "<style scoped>\n",
       "    .dataframe tbody tr th:only-of-type {\n",
       "        vertical-align: middle;\n",
       "    }\n",
       "\n",
       "    .dataframe tbody tr th {\n",
       "        vertical-align: top;\n",
       "    }\n",
       "\n",
       "    .dataframe thead th {\n",
       "        text-align: right;\n",
       "    }\n",
       "</style>\n",
       "<table border=\"1\" class=\"dataframe\">\n",
       "  <thead>\n",
       "    <tr style=\"text-align: right;\">\n",
       "      <th></th>\n",
       "      <th>Number of People</th>\n",
       "      <th>Total Payment</th>\n",
       "      <th>Total Dues</th>\n",
       "      <th>Average Payment</th>\n",
       "      <th>Average Due</th>\n",
       "      <th>Card 1 Due</th>\n",
       "      <th>Card 2 Due</th>\n",
       "      <th>Card 1 Total Due</th>\n",
       "      <th>Card 2 Total Due</th>\n",
       "    </tr>\n",
       "    <tr>\n",
       "      <th>Segment</th>\n",
       "      <th></th>\n",
       "      <th></th>\n",
       "      <th></th>\n",
       "      <th></th>\n",
       "      <th></th>\n",
       "      <th></th>\n",
       "      <th></th>\n",
       "      <th></th>\n",
       "      <th></th>\n",
       "    </tr>\n",
       "  </thead>\n",
       "  <tbody>\n",
       "    <tr>\n",
       "      <th>A</th>\n",
       "      <td>41</td>\n",
       "      <td>172221</td>\n",
       "      <td>232667</td>\n",
       "      <td>4200</td>\n",
       "      <td>5674</td>\n",
       "      <td>113</td>\n",
       "      <td>453</td>\n",
       "      <td>4653</td>\n",
       "      <td>18613</td>\n",
       "    </tr>\n",
       "    <tr>\n",
       "      <th>B</th>\n",
       "      <td>46</td>\n",
       "      <td>205578</td>\n",
       "      <td>305940</td>\n",
       "      <td>4469</td>\n",
       "      <td>6650</td>\n",
       "      <td>133</td>\n",
       "      <td>532</td>\n",
       "      <td>6118</td>\n",
       "      <td>24475</td>\n",
       "    </tr>\n",
       "    <tr>\n",
       "      <th>C</th>\n",
       "      <td>13</td>\n",
       "      <td>54598</td>\n",
       "      <td>64527</td>\n",
       "      <td>4199</td>\n",
       "      <td>4963</td>\n",
       "      <td>99</td>\n",
       "      <td>397</td>\n",
       "      <td>1290</td>\n",
       "      <td>5162</td>\n",
       "    </tr>\n",
       "  </tbody>\n",
       "</table>\n",
       "</div>"
      ],
      "text/plain": [
       "         Number of People  Total Payment  Total Dues  Average Payment  \\\n",
       "Segment                                                                 \n",
       "A                      41         172221      232667             4200   \n",
       "B                      46         205578      305940             4469   \n",
       "C                      13          54598       64527             4199   \n",
       "\n",
       "         Average Due  Card 1 Due  Card 2 Due  Card 1 Total Due  \\\n",
       "Segment                                                          \n",
       "A               5674         113         453              4653   \n",
       "B               6650         133         532              6118   \n",
       "C               4963          99         397              1290   \n",
       "\n",
       "         Card 2 Total Due  \n",
       "Segment                    \n",
       "A                   18613  \n",
       "B                   24475  \n",
       "C                    5162  "
      ]
     },
     "execution_count": 375,
     "metadata": {},
     "output_type": "execute_result"
    }
   ],
   "source": [
    "g_customer_payment = df_customer_payment[df_customer_payment['Date']<'2018-02-01'].groupby('Segment')\n",
    "customet_payment = pd.DataFrame(data=g_customer_payment.size(), columns=['Number of People'])\n",
    "customet_payment['Total Payment'] = g_customer_payment['Total Payment'].agg('sum')\n",
    "customet_payment['Total Dues'] = g_customer_payment['Total Due'].agg('sum')\n",
    "customet_payment['Average Payment'] = customet_payment['Total Payment']/customet_payment['Number of People']\n",
    "customet_payment['Average Due'] = customet_payment['Total Dues']/customet_payment['Number of People']\n",
    "customet_payment['Card 1 Due'] = customet_payment['Average Due']*0.02\n",
    "customet_payment['Card 2 Due'] = customet_payment['Average Due']*0.08\n",
    "customet_payment['Card 1 Total Due'] = customet_payment['Total Dues']*0.02\n",
    "customet_payment['Card 2 Total Due'] = customet_payment['Total Dues']*0.08\n",
    "m=(customet_payment.dtypes=='float')\n",
    "customet_payment.loc[:,m]=customet_payment.loc[:,m].astype(int)\n",
    "customet_payment"
   ]
  },
  {
   "cell_type": "markdown",
   "id": "6d0e646b",
   "metadata": {},
   "source": [
    "# Card data"
   ]
  },
  {
   "cell_type": "code",
   "execution_count": 339,
   "id": "9f641ddf",
   "metadata": {
    "scrolled": true
   },
   "outputs": [
    {
     "data": {
      "text/html": [
       "<div>\n",
       "<style scoped>\n",
       "    .dataframe tbody tr th:only-of-type {\n",
       "        vertical-align: middle;\n",
       "    }\n",
       "\n",
       "    .dataframe tbody tr th {\n",
       "        vertical-align: top;\n",
       "    }\n",
       "\n",
       "    .dataframe thead th {\n",
       "        text-align: right;\n",
       "    }\n",
       "</style>\n",
       "<table border=\"1\" class=\"dataframe\">\n",
       "  <thead>\n",
       "    <tr style=\"text-align: right;\">\n",
       "      <th></th>\n",
       "      <th>Card No.</th>\n",
       "      <th>Number of cards</th>\n",
       "      <th>Segment A</th>\n",
       "      <th>Segment B</th>\n",
       "      <th>Segment C</th>\n",
       "      <th>Average Credit Limit</th>\n",
       "    </tr>\n",
       "  </thead>\n",
       "  <tbody>\n",
       "    <tr>\n",
       "      <th>0</th>\n",
       "      <td>Credit Card 1</td>\n",
       "      <td>4</td>\n",
       "      <td>2</td>\n",
       "      <td>1</td>\n",
       "      <td>1.0</td>\n",
       "      <td>347500.0</td>\n",
       "    </tr>\n",
       "    <tr>\n",
       "      <th>1</th>\n",
       "      <td>Credit Card 2</td>\n",
       "      <td>6</td>\n",
       "      <td>1</td>\n",
       "      <td>5</td>\n",
       "      <td>0.0</td>\n",
       "      <td>120500.0</td>\n",
       "    </tr>\n",
       "  </tbody>\n",
       "</table>\n",
       "</div>"
      ],
      "text/plain": [
       "        Card No.  Number of cards  Segment A  Segment B  Segment C  \\\n",
       "0  Credit Card 1                4          2          1        1.0   \n",
       "1  Credit Card 2                6          1          5        0.0   \n",
       "\n",
       "   Average Credit Limit  \n",
       "0              347500.0  \n",
       "1              120500.0  "
      ]
     },
     "execution_count": 339,
     "metadata": {},
     "output_type": "execute_result"
    }
   ],
   "source": [
    "segment_card = pd.DataFrame(data=g_customer.size(), columns=['Number of cards'])\n",
    "segment_card['Segment A'] = df_customer_detail[df_customer_detail['Segment']=='A'].groupby('Card No.').size()\n",
    "segment_card['Segment B'] = df_customer_detail[df_customer_detail['Segment']=='B'].groupby('Card No.').size()\n",
    "segment_card['Segment C'] = df_customer_detail[df_customer_detail['Segment']=='C'].groupby('Card No.').size()\n",
    "segment_card['Average Credit Limit'] = g_customer['Credit Limit'].agg('sum')/g_customer.size()\n",
    "segment_card= segment_card.fillna(0)\n",
    "segment_card = segment_card.reset_index('Card No.')\n",
    "segment_card"
   ]
  },
  {
   "cell_type": "markdown",
   "id": "d429a33b",
   "metadata": {},
   "source": [
    "# Plotting Graphs"
   ]
  },
  {
   "cell_type": "code",
   "execution_count": 341,
   "id": "46aafb4b",
   "metadata": {
    "scrolled": false
   },
   "outputs": [
    {
     "data": {
      "text/plain": [
       "<matplotlib.legend.Legend at 0x2bf28be60a0>"
      ]
     },
     "execution_count": 341,
     "metadata": {},
     "output_type": "execute_result"
    },
    {
     "data": {
      "text/plain": [
       "<Figure size 2520x576 with 0 Axes>"
      ]
     },
     "metadata": {},
     "output_type": "display_data"
    },
    {
     "data": {
      "image/png": "[encoded data removed]",
      "text/plain": [
       "<Figure size 432x288 with 1 Axes>"
      ]
     },
     "metadata": {
      "needs_background": "light"
     },
     "output_type": "display_data"
    }
   ],
   "source": [
    "plt.figure(figsize=(35, 8))\n",
    "plot_data = pd.DataFrame({\n",
    "    \"Segment A Transactions\": card_transaction['Segment A Transactions'],\n",
    "    \"Segment B Transactions\": card_transaction['Segment B Transactions'],\n",
    "    \"Segment C Transactions\": card_transaction['Segment C Transactions']\n",
    "    }   \n",
    ")\n",
    "\n",
    "plot_data.plot(kind = \"bar\")\n",
    "\n",
    "# card_transaction['Segment A Transactions'].plot.bar(color='#ff6384')\n",
    "# card_transaction['Segment B Transactions'].plot.bar(color='#34ff81')\n",
    "# card_transaction['Segment C Transactions'].plot.bar(color='#1a74dd')\n",
    "plt.title(\"Category Priority\", fontsize=25)\n",
    "plt.xlabel(\"Categories\", fontsize=20)\n",
    "plt.ylabel(\"Number of Transactions by Segments\", fontsize=20)\n",
    "plt.legend()"
   ]
  },
  {
   "cell_type": "code",
   "execution_count": 342,
   "id": "e0a7b026",
   "metadata": {},
   "outputs": [
    {
     "data": {
      "text/plain": [
       "<matplotlib.legend.Legend at 0x2bf2e8a54f0>"
      ]
     },
     "execution_count": 342,
     "metadata": {},
     "output_type": "execute_result"
    },
    {
     "data": {
      "text/plain": [
       "<Figure size 2520x2160 with 0 Axes>"
      ]
     },
     "metadata": {},
     "output_type": "display_data"
    },
    {
     "data": {
      "image/png": "[encoded data removed]",
      "text/plain": [
       "<Figure size 432x288 with 1 Axes>"
      ]
     },
     "metadata": {
      "needs_background": "light"
     },
     "output_type": "display_data"
    }
   ],
   "source": [
    "plt.figure(figsize=(35, 30))\n",
    "plot_data = pd.DataFrame({\n",
    "    \"Card 1\": card_detail_proxy['Card 1 Reward'],\n",
    "    \"Card 2\": card_detail_proxy['Card 2 Reward'],\n",
    "    }   \n",
    ")\n",
    "\n",
    "plot_data.plot(kind = \"bar\")\n",
    "\n",
    "# card_transaction['Segment A Transactions'].plot.bar(color='#ff6384')\n",
    "# card_transaction['Segment B Transactions'].plot.bar(color='#34ff81')\n",
    "# card_transaction['Segment C Transactions'].plot.bar(color='#1a74dd')\n",
    "plt.title(\"Card Rewards\", fontsize=25)\n",
    "plt.xlabel(\"Category\", fontsize=20)\n",
    "plt.ylabel(\"Reward / 100\", fontsize=20)\n",
    "plt.legend()"
   ]
  },
  {
   "cell_type": "code",
   "execution_count": 343,
   "id": "3c082a05",
   "metadata": {},
   "outputs": [
    {
     "data": {
      "text/plain": [
       "Text(0.5, 1.0, 'Segment A')"
      ]
     },
     "execution_count": 343,
     "metadata": {},
     "output_type": "execute_result"
    },
    {
     "data": {
      "image/png": "[encoded data removed]",
      "text/plain": [
       "<Figure size 1080x576 with 1 Axes>"
      ]
     },
     "metadata": {},
     "output_type": "display_data"
    }
   ],
   "source": [
    "plt.figure(figsize=(15, 8))\n",
    "categoty_transaction['Segment A Transactions'].sort_values(ascending=False).head(5).plot.pie()\n",
    "plt.title(\"Segment A\", fontsize=25)"
   ]
  },
  {
   "cell_type": "code",
   "execution_count": 344,
   "id": "58b7148f",
   "metadata": {},
   "outputs": [
    {
     "data": {
      "text/plain": [
       "Text(0.5, 1.0, 'Segment B')"
      ]
     },
     "execution_count": 344,
     "metadata": {},
     "output_type": "execute_result"
    },
    {
     "data": {
      "image/png": "[encoded data removed]",
      "text/plain": [
       "<Figure size 1080x576 with 1 Axes>"
      ]
     },
     "metadata": {},
     "output_type": "display_data"
    }
   ],
   "source": [
    "plt.figure(figsize=(15, 8))\n",
    "categoty_transaction['Segment B Transactions'].sort_values(ascending=False).head(5).plot.pie()\n",
    "plt.title(\"Segment B\", fontsize=25)"
   ]
  },
  {
   "cell_type": "code",
   "execution_count": 345,
   "id": "cc99a28e",
   "metadata": {},
   "outputs": [
    {
     "data": {
      "text/plain": [
       "Text(0.5, 1.0, 'Segment C')"
      ]
     },
     "execution_count": 345,
     "metadata": {},
     "output_type": "execute_result"
    },
    {
     "data": {
      "image/png": "[encoded data removed]",
      "text/plain": [
       "<Figure size 1080x576 with 1 Axes>"
      ]
     },
     "metadata": {},
     "output_type": "display_data"
    }
   ],
   "source": [
    "plt.figure(figsize=(15, 8))\n",
    "categoty_transaction['Segment C Transactions'].sort_values(ascending=False).head(5).plot.pie()\n",
    "plt.title(\"Segment C\", fontsize=25)"
   ]
  },
  {
   "cell_type": "code",
   "execution_count": 346,
   "id": "b6032407",
   "metadata": {
    "scrolled": false
   },
   "outputs": [
    {
     "data": {
      "text/plain": [
       "<matplotlib.legend.Legend at 0x2bf2e643af0>"
      ]
     },
     "execution_count": 346,
     "metadata": {},
     "output_type": "execute_result"
    },
    {
     "data": {
      "text/plain": [
       "<Figure size 7200x7200 with 0 Axes>"
      ]
     },
     "metadata": {},
     "output_type": "display_data"
    },
    {
     "data": {
      "image/png": "[encoded data removed]",
      "text/plain": [
       "<Figure size 432x288 with 1 Axes>"
      ]
     },
     "metadata": {
      "needs_background": "light"
     },
     "output_type": "display_data"
    }
   ],
   "source": [
    "plt.figure(figsize=(100, 100))\n",
    "plot_data = pd.DataFrame({\n",
    "    \"Segment A\": segment_transaction['Segment A Amount'],\n",
    "    \"Segment B\": segment_transaction['Segment B Amount'],\n",
    "    \"Segment C\": segment_transaction['Segment C Amount'],\n",
    "    }   \n",
    ")\n",
    "\n",
    "plot_data.plot(kind = \"bar\")\n",
    "plt.title(\"Total Amount Spent by different Segment\", fontsize=25)\n",
    "plt.xlabel(\"Category\", fontsize=20)\n",
    "plt.ylabel(\"Amount in Rs\", fontsize=20)\n",
    "plt.legend()"
   ]
  },
  {
   "cell_type": "code",
   "execution_count": 378,
   "id": "0f08a8e3",
   "metadata": {},
   "outputs": [
    {
     "data": {
      "text/plain": [
       "Segment\n",
       "A    4653\n",
       "B    6118\n",
       "C    1290\n",
       "Name: Card 1 Total Due, dtype: int32"
      ]
     },
     "execution_count": 378,
     "metadata": {},
     "output_type": "execute_result"
    }
   ],
   "source": [
    "customet_payment['Card 1 Total Due']"
   ]
  },
  {
   "cell_type": "code",
   "execution_count": 379,
   "id": "adead0a9",
   "metadata": {},
   "outputs": [
    {
     "data": {
      "text/plain": [
       "4361"
      ]
     },
     "execution_count": 379,
     "metadata": {},
     "output_type": "execute_result"
    }
   ],
   "source": [
    "segment_transaction['Reward A card 1'].sum()"
   ]
  },
  {
   "cell_type": "code",
   "execution_count": 380,
   "id": "3ae2b0df",
   "metadata": {},
   "outputs": [
    {
     "data": {
      "text/plain": [
       "5461"
      ]
     },
     "execution_count": 380,
     "metadata": {},
     "output_type": "execute_result"
    }
   ],
   "source": [
    "segment_transaction['Reward B card 1'].sum()"
   ]
  },
  {
   "cell_type": "code",
   "execution_count": 381,
   "id": "67655da2",
   "metadata": {},
   "outputs": [
    {
     "data": {
      "text/plain": [
       "1493"
      ]
     },
     "execution_count": 381,
     "metadata": {},
     "output_type": "execute_result"
    }
   ],
   "source": [
    "segment_transaction['Reward C card 1'].sum()"
   ]
  },
  {
   "cell_type": "code",
   "execution_count": 382,
   "id": "4a49c622",
   "metadata": {},
   "outputs": [
    {
     "data": {
      "text/plain": [
       "5374"
      ]
     },
     "execution_count": 382,
     "metadata": {},
     "output_type": "execute_result"
    }
   ],
   "source": [
    "segment_transaction['Reward A card 2'].sum()"
   ]
  },
  {
   "cell_type": "code",
   "execution_count": 383,
   "id": "37ed7617",
   "metadata": {},
   "outputs": [
    {
     "data": {
      "text/plain": [
       "5333"
      ]
     },
     "execution_count": 383,
     "metadata": {},
     "output_type": "execute_result"
    }
   ],
   "source": [
    "segment_transaction['Reward B card 2'].sum()"
   ]
  },
  {
   "cell_type": "code",
   "execution_count": 384,
   "id": "e3ac06a1",
   "metadata": {},
   "outputs": [
    {
     "data": {
      "text/plain": [
       "1333"
      ]
     },
     "execution_count": 384,
     "metadata": {},
     "output_type": "execute_result"
    }
   ],
   "source": [
    "segment_transaction['Reward C card 2'].sum()"
   ]
  },
  {
   "cell_type": "markdown",
   "id": "cc53444d",
   "metadata": {},
   "source": [
    "# Febuary Transactions\n"
   ]
  },
  {
   "cell_type": "code",
   "execution_count": 388,
   "id": "ece38eb5",
   "metadata": {},
   "outputs": [
    {
     "name": "stderr",
     "output_type": "stream",
     "text": [
      "<ipython-input-388-2facadb5e83f>:4: UserWarning: Boolean Series key will be reindexed to match DataFrame index.\n",
      "  categoty_transaction_feb['Segment A Transactions'] = df_transaction.head(221)[(df_transaction['Age']>40)&(df_transaction['Date']>'2018-01-01')].groupby('Category').size()\n",
      "<ipython-input-388-2facadb5e83f>:5: UserWarning: Boolean Series key will be reindexed to match DataFrame index.\n",
      "  categoty_transaction_feb['Segment B Transactions'] =  df_transaction.head(221)[(df_transaction['Age'] < 40)&(df_transaction['Age'] > 19)&(df_transaction['Date']>'2018-01-01') ].groupby('Category').size()\n",
      "<ipython-input-388-2facadb5e83f>:6: UserWarning: Boolean Series key will be reindexed to match DataFrame index.\n",
      "  categoty_transaction_feb['Segment C Transactions'] = df_transaction.head(221)[(df_transaction['Age']<20)&(df_transaction['Date']>'2018-01-01')].groupby('Category').size()\n"
     ]
    },
    {
     "data": {
      "text/html": [
       "<div>\n",
       "<style scoped>\n",
       "    .dataframe tbody tr th:only-of-type {\n",
       "        vertical-align: middle;\n",
       "    }\n",
       "\n",
       "    .dataframe tbody tr th {\n",
       "        vertical-align: top;\n",
       "    }\n",
       "\n",
       "    .dataframe thead th {\n",
       "        text-align: right;\n",
       "    }\n",
       "</style>\n",
       "<table border=\"1\" class=\"dataframe\">\n",
       "  <thead>\n",
       "    <tr style=\"text-align: right;\">\n",
       "      <th></th>\n",
       "      <th>Number of Transactions</th>\n",
       "      <th>Total Payment</th>\n",
       "      <th>Segment A Transactions</th>\n",
       "      <th>Segment B Transactions</th>\n",
       "      <th>Segment C Transactions</th>\n",
       "      <th>Total Transactions</th>\n",
       "      <th>Card 1 Reward</th>\n",
       "      <th>Card 2 Reward</th>\n",
       "    </tr>\n",
       "    <tr>\n",
       "      <th>Category</th>\n",
       "      <th></th>\n",
       "      <th></th>\n",
       "      <th></th>\n",
       "      <th></th>\n",
       "      <th></th>\n",
       "      <th></th>\n",
       "      <th></th>\n",
       "      <th></th>\n",
       "    </tr>\n",
       "  </thead>\n",
       "  <tbody>\n",
       "    <tr>\n",
       "      <th>Online Shopping</th>\n",
       "      <td>28</td>\n",
       "      <td>1185586.0</td>\n",
       "      <td>9</td>\n",
       "      <td>12.0</td>\n",
       "      <td>4.0</td>\n",
       "      <td>25.0</td>\n",
       "      <td>0.05</td>\n",
       "      <td>0.02</td>\n",
       "    </tr>\n",
       "    <tr>\n",
       "      <th>Travel</th>\n",
       "      <td>28</td>\n",
       "      <td>733628.0</td>\n",
       "      <td>12</td>\n",
       "      <td>12.0</td>\n",
       "      <td>2.0</td>\n",
       "      <td>26.0</td>\n",
       "      <td>0.02</td>\n",
       "      <td>0.08</td>\n",
       "    </tr>\n",
       "    <tr>\n",
       "      <th>Travell</th>\n",
       "      <td>1</td>\n",
       "      <td>289618.0</td>\n",
       "      <td>1</td>\n",
       "      <td>0.0</td>\n",
       "      <td>0.0</td>\n",
       "      <td>0.0</td>\n",
       "      <td>0.00</td>\n",
       "      <td>0.00</td>\n",
       "    </tr>\n",
       "    <tr>\n",
       "      <th>Dining</th>\n",
       "      <td>34</td>\n",
       "      <td>74104.0</td>\n",
       "      <td>11</td>\n",
       "      <td>18.0</td>\n",
       "      <td>3.0</td>\n",
       "      <td>32.0</td>\n",
       "      <td>0.10</td>\n",
       "      <td>0.05</td>\n",
       "    </tr>\n",
       "    <tr>\n",
       "      <th>Shopping</th>\n",
       "      <td>1</td>\n",
       "      <td>69999.0</td>\n",
       "      <td>1</td>\n",
       "      <td>0.0</td>\n",
       "      <td>0.0</td>\n",
       "      <td>0.0</td>\n",
       "      <td>0.00</td>\n",
       "      <td>0.00</td>\n",
       "    </tr>\n",
       "    <tr>\n",
       "      <th>Fuel</th>\n",
       "      <td>27</td>\n",
       "      <td>32265.0</td>\n",
       "      <td>8</td>\n",
       "      <td>12.0</td>\n",
       "      <td>5.0</td>\n",
       "      <td>25.0</td>\n",
       "      <td>0.01</td>\n",
       "      <td>0.02</td>\n",
       "    </tr>\n",
       "  </tbody>\n",
       "</table>\n",
       "</div>"
      ],
      "text/plain": [
       "                 Number of Transactions  Total Payment  \\\n",
       "Category                                                 \n",
       "Online Shopping                      28      1185586.0   \n",
       "Travel                               28       733628.0   \n",
       "Travell                               1       289618.0   \n",
       "Dining                               34        74104.0   \n",
       "Shopping                              1        69999.0   \n",
       "Fuel                                 27        32265.0   \n",
       "\n",
       "                 Segment A Transactions  Segment B Transactions  \\\n",
       "Category                                                          \n",
       "Online Shopping                       9                    12.0   \n",
       "Travel                               12                    12.0   \n",
       "Travell                               1                     0.0   \n",
       "Dining                               11                    18.0   \n",
       "Shopping                              1                     0.0   \n",
       "Fuel                                  8                    12.0   \n",
       "\n",
       "                 Segment C Transactions  Total Transactions  Card 1 Reward  \\\n",
       "Category                                                                     \n",
       "Online Shopping                     4.0                25.0           0.05   \n",
       "Travel                              2.0                26.0           0.02   \n",
       "Travell                             0.0                 0.0           0.00   \n",
       "Dining                              3.0                32.0           0.10   \n",
       "Shopping                            0.0                 0.0           0.00   \n",
       "Fuel                                5.0                25.0           0.01   \n",
       "\n",
       "                 Card 2 Reward  \n",
       "Category                        \n",
       "Online Shopping           0.02  \n",
       "Travel                    0.08  \n",
       "Travell                   0.00  \n",
       "Dining                    0.05  \n",
       "Shopping                  0.00  \n",
       "Fuel                      0.02  "
      ]
     },
     "execution_count": 388,
     "metadata": {},
     "output_type": "execute_result"
    }
   ],
   "source": [
    "g_categories_feb = df_transaction[df_transaction['Date']>'2018-01-01'].groupby('Category')\n",
    "categoty_transaction_feb = pd.DataFrame(data=g_categories_feb.size(), columns=['Number of Transactions'])\n",
    "categoty_transaction_feb['Total Payment'] = g_categories_feb['Transaction Amount'].agg(\"sum\") \n",
    "categoty_transaction_feb['Segment A Transactions'] = df_transaction.head(221)[(df_transaction['Age']>40)&(df_transaction['Date']>'2018-01-01')].groupby('Category').size()\n",
    "categoty_transaction_feb['Segment B Transactions'] =  df_transaction.head(221)[(df_transaction['Age'] < 40)&(df_transaction['Age'] > 19)&(df_transaction['Date']>'2018-01-01') ].groupby('Category').size()\n",
    "categoty_transaction_feb['Segment C Transactions'] = df_transaction.head(221)[(df_transaction['Age']<20)&(df_transaction['Date']>'2018-01-01')].groupby('Category').size()\n",
    "categoty_transaction_feb['Total Transactions'] = categoty_transaction_feb['Segment A Transactions']+categoty_transaction_feb['Segment B Transactions']+categoty_transaction['Segment C Transactions']\n",
    "categoty_transaction_feb= categoty_transaction_feb.fillna(0)\n",
    "card_transaction_feb = pd.merge(categoty_transaction_feb, card_detail, on='Category', how='outer')\n",
    "card_transaction_feb= card_transaction_feb.fillna(0)\n",
    "\n",
    "card_transaction_feb= card_transaction_feb.set_index(\"Category\").sort_values(by = 'Total Payment', ascending=False)\n",
    "card_transaction_feb"
   ]
  },
  {
   "cell_type": "code",
   "execution_count": 389,
   "id": "d144b847",
   "metadata": {},
   "outputs": [
    {
     "data": {
      "text/html": [
       "<div>\n",
       "<style scoped>\n",
       "    .dataframe tbody tr th:only-of-type {\n",
       "        vertical-align: middle;\n",
       "    }\n",
       "\n",
       "    .dataframe tbody tr th {\n",
       "        vertical-align: top;\n",
       "    }\n",
       "\n",
       "    .dataframe thead th {\n",
       "        text-align: right;\n",
       "    }\n",
       "</style>\n",
       "<table border=\"1\" class=\"dataframe\">\n",
       "  <thead>\n",
       "    <tr style=\"text-align: right;\">\n",
       "      <th></th>\n",
       "      <th>Number of Transactions</th>\n",
       "      <th>Segment A Amount</th>\n",
       "      <th>Segment B Amount</th>\n",
       "      <th>Segment C Amount</th>\n",
       "      <th>Reward A card 1</th>\n",
       "      <th>Reward B card 1</th>\n",
       "      <th>Reward C card 1</th>\n",
       "      <th>Reward A card 2</th>\n",
       "      <th>Reward B card 2</th>\n",
       "      <th>Reward C card 2</th>\n",
       "    </tr>\n",
       "    <tr>\n",
       "      <th>Category</th>\n",
       "      <th></th>\n",
       "      <th></th>\n",
       "      <th></th>\n",
       "      <th></th>\n",
       "      <th></th>\n",
       "      <th></th>\n",
       "      <th></th>\n",
       "      <th></th>\n",
       "      <th></th>\n",
       "      <th></th>\n",
       "    </tr>\n",
       "  </thead>\n",
       "  <tbody>\n",
       "    <tr>\n",
       "      <th>Dining</th>\n",
       "      <td>34</td>\n",
       "      <td>23974</td>\n",
       "      <td>39231</td>\n",
       "      <td>6538</td>\n",
       "      <td>2397</td>\n",
       "      <td>3923</td>\n",
       "      <td>653</td>\n",
       "      <td>1198</td>\n",
       "      <td>1961</td>\n",
       "      <td>326</td>\n",
       "    </tr>\n",
       "    <tr>\n",
       "      <th>Fuel</th>\n",
       "      <td>27</td>\n",
       "      <td>9560</td>\n",
       "      <td>14340</td>\n",
       "      <td>5975</td>\n",
       "      <td>95</td>\n",
       "      <td>143</td>\n",
       "      <td>59</td>\n",
       "      <td>191</td>\n",
       "      <td>286</td>\n",
       "      <td>119</td>\n",
       "    </tr>\n",
       "    <tr>\n",
       "      <th>Online Shopping</th>\n",
       "      <td>28</td>\n",
       "      <td>381081</td>\n",
       "      <td>508108</td>\n",
       "      <td>169369</td>\n",
       "      <td>19054</td>\n",
       "      <td>25405</td>\n",
       "      <td>8468</td>\n",
       "      <td>7621</td>\n",
       "      <td>10162</td>\n",
       "      <td>3387</td>\n",
       "    </tr>\n",
       "    <tr>\n",
       "      <th>Shopping</th>\n",
       "      <td>1</td>\n",
       "      <td>69999</td>\n",
       "      <td>0</td>\n",
       "      <td>0</td>\n",
       "      <td>0</td>\n",
       "      <td>0</td>\n",
       "      <td>0</td>\n",
       "      <td>0</td>\n",
       "      <td>0</td>\n",
       "      <td>0</td>\n",
       "    </tr>\n",
       "    <tr>\n",
       "      <th>Travel</th>\n",
       "      <td>28</td>\n",
       "      <td>314412</td>\n",
       "      <td>314412</td>\n",
       "      <td>52402</td>\n",
       "      <td>6288</td>\n",
       "      <td>6288</td>\n",
       "      <td>1048</td>\n",
       "      <td>25152</td>\n",
       "      <td>25152</td>\n",
       "      <td>4192</td>\n",
       "    </tr>\n",
       "    <tr>\n",
       "      <th>Travell</th>\n",
       "      <td>1</td>\n",
       "      <td>289618</td>\n",
       "      <td>0</td>\n",
       "      <td>0</td>\n",
       "      <td>0</td>\n",
       "      <td>0</td>\n",
       "      <td>0</td>\n",
       "      <td>0</td>\n",
       "      <td>0</td>\n",
       "      <td>0</td>\n",
       "    </tr>\n",
       "  </tbody>\n",
       "</table>\n",
       "</div>"
      ],
      "text/plain": [
       "                 Number of Transactions  Segment A Amount  Segment B Amount  \\\n",
       "Category                                                                      \n",
       "Dining                               34             23974             39231   \n",
       "Fuel                                 27              9560             14340   \n",
       "Online Shopping                      28            381081            508108   \n",
       "Shopping                              1             69999                 0   \n",
       "Travel                               28            314412            314412   \n",
       "Travell                               1            289618                 0   \n",
       "\n",
       "                 Segment C Amount  Reward A card 1  Reward B card 1  \\\n",
       "Category                                                              \n",
       "Dining                       6538             2397             3923   \n",
       "Fuel                         5975               95              143   \n",
       "Online Shopping            169369            19054            25405   \n",
       "Shopping                        0                0                0   \n",
       "Travel                      52402             6288             6288   \n",
       "Travell                         0                0                0   \n",
       "\n",
       "                 Reward C card 1  Reward A card 2  Reward B card 2  \\\n",
       "Category                                                             \n",
       "Dining                       653             1198             1961   \n",
       "Fuel                          59              191              286   \n",
       "Online Shopping             8468             7621            10162   \n",
       "Shopping                       0                0                0   \n",
       "Travel                      1048            25152            25152   \n",
       "Travell                        0                0                0   \n",
       "\n",
       "                 Reward C card 2  \n",
       "Category                          \n",
       "Dining                       326  \n",
       "Fuel                         119  \n",
       "Online Shopping             3387  \n",
       "Shopping                       0  \n",
       "Travel                      4192  \n",
       "Travell                        0  "
      ]
     },
     "execution_count": 389,
     "metadata": {},
     "output_type": "execute_result"
    }
   ],
   "source": [
    "segment_transaction_feb = pd.DataFrame(data=g_categories_feb.size(), columns=['Number of Transactions'])\n",
    "segment_transaction_feb['Segment A Amount'] = categoty_transaction_feb['Total Payment']*(categoty_transaction_feb['Segment A Transactions']/categoty_transaction_feb['Number of Transactions'])\n",
    "segment_transaction_feb['Segment B Amount'] = categoty_transaction_feb['Total Payment']*(categoty_transaction_feb['Segment B Transactions']/categoty_transaction_feb['Number of Transactions'])\n",
    "segment_transaction_feb['Segment C Amount'] = categoty_transaction_feb['Total Payment']*(categoty_transaction_feb['Segment C Transactions']/categoty_transaction_feb['Number of Transactions'])\n",
    "segment_transaction_feb['Reward A card 1'] = card_transaction_feb['Card 1 Reward']*segment_transaction_feb['Segment A Amount']\n",
    "segment_transaction_feb['Reward B card 1'] = card_transaction_feb['Card 1 Reward']*segment_transaction_feb['Segment B Amount']\n",
    "segment_transaction_feb['Reward C card 1'] = card_transaction_feb['Card 1 Reward']*segment_transaction_feb['Segment C Amount']\n",
    "segment_transaction_feb['Reward A card 2'] = card_transaction_feb['Card 2 Reward']*segment_transaction_feb['Segment A Amount']\n",
    "segment_transaction_feb['Reward B card 2'] = card_transaction_feb['Card 2 Reward']*segment_transaction_feb['Segment B Amount']\n",
    "segment_transaction_feb['Reward C card 2'] = card_transaction_feb['Card 2 Reward']*segment_transaction_feb['Segment C Amount']\n",
    "m=(segment_transaction_feb.dtypes=='float')\n",
    "segment_transaction_feb.loc[:,m]=segment_transaction_feb.loc[:,m].astype(int)\n",
    "segment_transaction_feb"
   ]
  },
  {
   "cell_type": "code",
   "execution_count": 391,
   "id": "ede2b872",
   "metadata": {},
   "outputs": [
    {
     "data": {
      "text/html": [
       "<div>\n",
       "<style scoped>\n",
       "    .dataframe tbody tr th:only-of-type {\n",
       "        vertical-align: middle;\n",
       "    }\n",
       "\n",
       "    .dataframe tbody tr th {\n",
       "        vertical-align: top;\n",
       "    }\n",
       "\n",
       "    .dataframe thead th {\n",
       "        text-align: right;\n",
       "    }\n",
       "</style>\n",
       "<table border=\"1\" class=\"dataframe\">\n",
       "  <thead>\n",
       "    <tr style=\"text-align: right;\">\n",
       "      <th></th>\n",
       "      <th>Number of People</th>\n",
       "      <th>Total Payment</th>\n",
       "      <th>Total Dues</th>\n",
       "      <th>Average Payment</th>\n",
       "      <th>Average Due</th>\n",
       "      <th>Card 1 Due</th>\n",
       "      <th>Card 2 Due</th>\n",
       "      <th>Card 1 Total Due</th>\n",
       "      <th>Card 2 Total Due</th>\n",
       "    </tr>\n",
       "    <tr>\n",
       "      <th>Segment</th>\n",
       "      <th></th>\n",
       "      <th></th>\n",
       "      <th></th>\n",
       "      <th></th>\n",
       "      <th></th>\n",
       "      <th></th>\n",
       "      <th></th>\n",
       "      <th></th>\n",
       "      <th></th>\n",
       "    </tr>\n",
       "  </thead>\n",
       "  <tbody>\n",
       "    <tr>\n",
       "      <th>A</th>\n",
       "      <td>3</td>\n",
       "      <td>14128</td>\n",
       "      <td>1178248</td>\n",
       "      <td>4709</td>\n",
       "      <td>392749</td>\n",
       "      <td>7854</td>\n",
       "      <td>31419</td>\n",
       "      <td>23564</td>\n",
       "      <td>94259</td>\n",
       "    </tr>\n",
       "    <tr>\n",
       "      <th>B</th>\n",
       "      <td>6</td>\n",
       "      <td>21874</td>\n",
       "      <td>1144264</td>\n",
       "      <td>3645</td>\n",
       "      <td>190710</td>\n",
       "      <td>3814</td>\n",
       "      <td>15256</td>\n",
       "      <td>22885</td>\n",
       "      <td>91541</td>\n",
       "    </tr>\n",
       "    <tr>\n",
       "      <th>C</th>\n",
       "      <td>1</td>\n",
       "      <td>3506</td>\n",
       "      <td>25375</td>\n",
       "      <td>3506</td>\n",
       "      <td>25375</td>\n",
       "      <td>507</td>\n",
       "      <td>2030</td>\n",
       "      <td>507</td>\n",
       "      <td>2030</td>\n",
       "    </tr>\n",
       "  </tbody>\n",
       "</table>\n",
       "</div>"
      ],
      "text/plain": [
       "         Number of People  Total Payment  Total Dues  Average Payment  \\\n",
       "Segment                                                                 \n",
       "A                       3          14128     1178248             4709   \n",
       "B                       6          21874     1144264             3645   \n",
       "C                       1           3506       25375             3506   \n",
       "\n",
       "         Average Due  Card 1 Due  Card 2 Due  Card 1 Total Due  \\\n",
       "Segment                                                          \n",
       "A             392749        7854       31419             23564   \n",
       "B             190710        3814       15256             22885   \n",
       "C              25375         507        2030               507   \n",
       "\n",
       "         Card 2 Total Due  \n",
       "Segment                    \n",
       "A                   94259  \n",
       "B                   91541  \n",
       "C                    2030  "
      ]
     },
     "execution_count": 391,
     "metadata": {},
     "output_type": "execute_result"
    }
   ],
   "source": [
    "g_customer_payment_feb = df_customer_payment[df_customer_payment['Date']>'2018-01-01'].groupby('Segment')\n",
    "customet_payment_feb = pd.DataFrame(data=g_customer_payment_feb.size(), columns=['Number of People'])\n",
    "customet_payment_feb['Total Payment'] = g_customer_payment_feb['Total Payment'].agg('sum')\n",
    "customet_payment_feb['Total Dues'] = g_customer_payment_feb['Total Due'].agg('sum')\n",
    "customet_payment_feb['Average Payment'] = customet_payment_feb['Total Payment']/customet_payment_feb['Number of People']\n",
    "customet_payment_feb['Average Due'] = customet_payment_feb['Total Dues']/customet_payment_feb['Number of People']\n",
    "customet_payment_feb['Card 1 Due'] = customet_payment_feb['Average Due']*0.02\n",
    "customet_payment_feb['Card 2 Due'] = customet_payment_feb['Average Due']*0.08\n",
    "customet_payment_feb['Card 1 Total Due'] = customet_payment_feb['Total Dues']*0.02\n",
    "customet_payment_feb['Card 2 Total Due'] = customet_payment_feb['Total Dues']*0.08\n",
    "m=(customet_payment_feb.dtypes=='float')\n",
    "customet_payment_feb.loc[:,m]=customet_payment_feb.loc[:,m].astype(int)\n",
    "customet_payment_feb"
   ]
  },
  {
   "cell_type": "code",
   "execution_count": null,
   "id": "ef439db4",
   "metadata": {},
   "outputs": [],
   "source": []
  }
 ],
 "metadata": {
  "kernelspec": {
   "display_name": "Python 3",
   "language": "python",
   "name": "python3"
  },
  "language_info": {
   "codemirror_mode": {
    "name": "ipython",
    "version": 3
   },
   "file_extension": ".py",
   "mimetype": "text/x-python",
   "name": "python",
   "nbconvert_exporter": "python",
   "pygments_lexer": "ipython3",
   "version": "3.8.8"
  }
 },
 "nbformat": 4,
 "nbformat_minor": 5
}
